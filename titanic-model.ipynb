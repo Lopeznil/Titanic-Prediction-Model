{
 "cells": [
  {
   "cell_type": "code",
   "execution_count": 1,
   "id": "a17b206f",
   "metadata": {
    "_cell_guid": "b1076dfc-b9ad-4769-8c92-a6c4dae69d19",
    "_uuid": "8f2839f25d086af736a60e9eeb907d3b93b6e0e5",
    "execution": {
     "iopub.execute_input": "2024-11-08T17:09:56.809387Z",
     "iopub.status.busy": "2024-11-08T17:09:56.808964Z",
     "iopub.status.idle": "2024-11-08T17:09:59.920216Z",
     "shell.execute_reply": "2024-11-08T17:09:59.918211Z"
    },
    "papermill": {
     "duration": 3.121101,
     "end_time": "2024-11-08T17:09:59.923109",
     "exception": false,
     "start_time": "2024-11-08T17:09:56.802008",
     "status": "completed"
    },
    "tags": []
   },
   "outputs": [
    {
     "name": "stdout",
     "output_type": "stream",
     "text": [
      "/kaggle/input/titanic/train.csv\n",
      "/kaggle/input/titanic/test.csv\n",
      "/kaggle/input/titanic/gender_submission.csv\n"
     ]
    }
   ],
   "source": [
    "from sklearn import svm, datasets\n",
    "from sklearn.linear_model import LogisticRegression, Lasso, RidgeClassifier\n",
    "from sklearn.model_selection import train_test_split, GridSearchCV, RandomizedSearchCV\n",
    "from sklearn.ensemble import RandomForestClassifier, AdaBoostClassifier\n",
    "from sklearn.tree import DecisionTreeClassifier\n",
    "from scipy.stats import randint\n",
    "\n",
    "from sklearn.pipeline import Pipeline\n",
    "from sklearn.preprocessing import LabelEncoder, StandardScaler, OneHotEncoder\n",
    "from sklearn.compose import ColumnTransformer\n",
    "from sklearn.impute import SimpleImputer\n",
    "from sklearn import metrics\n",
    "\n",
    "import re\n",
    "\n",
    "import numpy as np # linear algebra\n",
    "import pandas as pd # data processing, CSV file I/O (e.g. pd.read_csv)\n",
    "\n",
    "\n",
    "\n",
    "import os\n",
    "for dirname, _, filenames in os.walk('/kaggle/input'):\n",
    "    for filename in filenames:\n",
    "        print(os.path.join(dirname, filename))\n",
    "\n"
   ]
  },
  {
   "cell_type": "code",
   "execution_count": 2,
   "id": "6966fb2e",
   "metadata": {
    "execution": {
     "iopub.execute_input": "2024-11-08T17:09:59.934752Z",
     "iopub.status.busy": "2024-11-08T17:09:59.934189Z",
     "iopub.status.idle": "2024-11-08T17:09:59.969090Z",
     "shell.execute_reply": "2024-11-08T17:09:59.967864Z"
    },
    "papermill": {
     "duration": 0.0439,
     "end_time": "2024-11-08T17:09:59.971752",
     "exception": false,
     "start_time": "2024-11-08T17:09:59.927852",
     "status": "completed"
    },
    "tags": []
   },
   "outputs": [],
   "source": [
    "# Load training and test data.\n",
    "train_data = pd.read_csv(\"/kaggle/input/titanic/train.csv\")\n",
    "test_data = pd.read_csv(\"/kaggle/input/titanic/test.csv\")"
   ]
  },
  {
   "cell_type": "code",
   "execution_count": 3,
   "id": "c858dfb1",
   "metadata": {
    "execution": {
     "iopub.execute_input": "2024-11-08T17:09:59.983211Z",
     "iopub.status.busy": "2024-11-08T17:09:59.982725Z",
     "iopub.status.idle": "2024-11-08T17:10:00.007072Z",
     "shell.execute_reply": "2024-11-08T17:10:00.004774Z"
    },
    "papermill": {
     "duration": 0.033467,
     "end_time": "2024-11-08T17:10:00.010300",
     "exception": false,
     "start_time": "2024-11-08T17:09:59.976833",
     "status": "completed"
    },
    "tags": []
   },
   "outputs": [],
   "source": [
    "#Feature Engineering; after EDA, extract title from feature 'name', and created new feature.\n",
    "def extract_title(name):\n",
    "    title_search = re.search(' ([A-Za-z]+)\\.', name)\n",
    "    if title_search:\n",
    "        return title_search.group(1)\n",
    "    return ''\n",
    "train_data['Title'] = train_data['Name'].apply(extract_title)\n",
    "test_data['Title'] = test_data['Name'].apply(extract_title)\n",
    "title_mapping = {\n",
    "    'Capt': 'Officer', 'Col': 'Officer', 'Major': 'Officer', \n",
    "    'Dr': 'Rare', 'Rev': 'Rare', 'Don': 'Rare', 'Sir': 'Noble', \n",
    "    'Mme': 'Mrs', 'Mlle': 'Miss', 'Ms': 'Miss', 'Lady': 'Noble',\n",
    "    'Jonkheer': 'Noble', 'Mr': 'Mr', 'Mrs': 'Mrs', 'Miss': 'Miss', 'Master': 'Master'\n",
    "}\n",
    "\n",
    "train_data['Title'] = train_data['Title'].map(title_mapping)\n",
    "test_data['Title'] = test_data['Title'].map(title_mapping)\n",
    "\n"
   ]
  },
  {
   "cell_type": "code",
   "execution_count": 4,
   "id": "75bf527a",
   "metadata": {
    "execution": {
     "iopub.execute_input": "2024-11-08T17:10:00.021584Z",
     "iopub.status.busy": "2024-11-08T17:10:00.021133Z",
     "iopub.status.idle": "2024-11-08T17:10:00.036528Z",
     "shell.execute_reply": "2024-11-08T17:10:00.035253Z"
    },
    "papermill": {
     "duration": 0.024446,
     "end_time": "2024-11-08T17:10:00.039492",
     "exception": false,
     "start_time": "2024-11-08T17:10:00.015046",
     "status": "completed"
    },
    "tags": []
   },
   "outputs": [],
   "source": [
    "#Separated categorical and numerical values.\n",
    "y = train_data.Survived\n",
    "X = train_data.drop(columns=['Survived','PassengerId','Name','Ticket','Cabin'])\n",
    "X_test = test_data.drop(columns=['PassengerId','Name','Ticket','Cabin'])\n",
    "num_cols = X.select_dtypes(include=np.number).columns\n",
    "cat_cols = X.select_dtypes(include=['object']).columns"
   ]
  },
  {
   "cell_type": "code",
   "execution_count": 5,
   "id": "e2f10105",
   "metadata": {
    "execution": {
     "iopub.execute_input": "2024-11-08T17:10:00.051316Z",
     "iopub.status.busy": "2024-11-08T17:10:00.050838Z",
     "iopub.status.idle": "2024-11-08T17:10:00.428306Z",
     "shell.execute_reply": "2024-11-08T17:10:00.427027Z"
    },
    "papermill": {
     "duration": 0.387519,
     "end_time": "2024-11-08T17:10:00.431627",
     "exception": false,
     "start_time": "2024-11-08T17:10:00.044108",
     "status": "completed"
    },
    "tags": []
   },
   "outputs": [],
   "source": [
    "#Preprocessed variables\n",
    "for i in range(1000):\n",
    "    X.loc[np.random.choice(X.index),np.random.choice(X.columns)] = np.nan\n",
    "\n",
    "x_train, x_test, y_train, y_test = train_test_split(X,y, random_state=0, test_size=0.25)\n",
    "\n",
    "cat_vals = Pipeline([(\"imputer\",SimpleImputer(strategy='most_frequent')), (\"ohe\",OneHotEncoder(sparse_output = False, drop='first', handle_unknown='ignore'))])\n",
    "num_vals = Pipeline([(\"imputer\",SimpleImputer(strategy='mean')), (\"scale\",StandardScaler())])\n",
    "\n",
    "preprocess = ColumnTransformer(\n",
    "    transformers=[\n",
    "        (\"cat_preprocess\", cat_vals, cat_cols),\n",
    "        (\"num_preprocess\", num_vals, num_cols)\n",
    "    ]\n",
    ")"
   ]
  },
  {
   "cell_type": "code",
   "execution_count": 6,
   "id": "c553e20a",
   "metadata": {
    "execution": {
     "iopub.execute_input": "2024-11-08T17:10:00.445797Z",
     "iopub.status.busy": "2024-11-08T17:10:00.443956Z",
     "iopub.status.idle": "2024-11-08T17:10:00.451648Z",
     "shell.execute_reply": "2024-11-08T17:10:00.449790Z"
    },
    "papermill": {
     "duration": 0.017348,
     "end_time": "2024-11-08T17:10:00.455009",
     "exception": false,
     "start_time": "2024-11-08T17:10:00.437661",
     "status": "completed"
    },
    "tags": []
   },
   "outputs": [],
   "source": [
    "#Created a range of 400 evenly spaced values between 1 and 200 for alpha in certain regression models.\n",
    "alpha_range = np.linspace(1, 200, num=400)"
   ]
  },
  {
   "cell_type": "code",
   "execution_count": 7,
   "id": "ffa00920",
   "metadata": {
    "execution": {
     "iopub.execute_input": "2024-11-08T17:10:00.468060Z",
     "iopub.status.busy": "2024-11-08T17:10:00.466717Z",
     "iopub.status.idle": "2024-11-08T17:10:00.476968Z",
     "shell.execute_reply": "2024-11-08T17:10:00.475774Z"
    },
    "papermill": {
     "duration": 0.018852,
     "end_time": "2024-11-08T17:10:00.479490",
     "exception": false,
     "start_time": "2024-11-08T17:10:00.460638",
     "status": "completed"
    },
    "tags": []
   },
   "outputs": [],
   "source": [
    "#For practice, created robust Pipeline using various models and hyperparameters as a search space.\n",
    "\n",
    "pipeline = Pipeline([(\"preprocess\",preprocess), \n",
    "                     (\"regr\",LogisticRegression())])\n",
    "search_space = [{'regr': [LogisticRegression(solver='liblinear',max_iter=2000)], 'regr__penalty': ['l1', 'l2'], 'regr__C': [0.01,0.1,1,10,100], 'regr__fit_intercept': [True,False]},\n",
    "                {'regr':[RidgeClassifier()],\n",
    "                     'regr__alpha': alpha_range},\n",
    "               {'regr': [RandomForestClassifier()], \n",
    "                 'regr__n_estimators': [50, 100, 200], \n",
    "                 'regr__max_depth': [None, 10, 20, 30, 50, 70], \n",
    "                 'regr__min_samples_split': [2, 5, 10], \n",
    "                 'regr__min_samples_leaf': [1, 2, 4],\n",
    "                 'regr__bootstrap': [True, False]}, \n",
    "                {'regr': [AdaBoostClassifier(estimator=DecisionTreeClassifier(max_depth=1))], \n",
    "                 'regr__n_estimators': [50, 100, 200],\n",
    "                 'regr__learning_rate': [0.01, 0.1, 1, 10]}]"
   ]
  },
  {
   "cell_type": "code",
   "execution_count": 8,
   "id": "8ff473fe",
   "metadata": {
    "execution": {
     "iopub.execute_input": "2024-11-08T17:10:00.490988Z",
     "iopub.status.busy": "2024-11-08T17:10:00.490572Z",
     "iopub.status.idle": "2024-11-08T17:10:00.496997Z",
     "shell.execute_reply": "2024-11-08T17:10:00.495257Z"
    },
    "papermill": {
     "duration": 0.015773,
     "end_time": "2024-11-08T17:10:00.499911",
     "exception": false,
     "start_time": "2024-11-08T17:10:00.484138",
     "status": "completed"
    },
    "tags": []
   },
   "outputs": [],
   "source": [
    "gs = GridSearchCV(pipeline, search_space, scoring='accuracy', cv=5)\n"
   ]
  },
  {
   "cell_type": "code",
   "execution_count": 9,
   "id": "67131615",
   "metadata": {
    "execution": {
     "iopub.execute_input": "2024-11-08T17:10:00.512683Z",
     "iopub.status.busy": "2024-11-08T17:10:00.512238Z",
     "iopub.status.idle": "2024-11-08T17:17:37.421242Z",
     "shell.execute_reply": "2024-11-08T17:17:37.419628Z"
    },
    "papermill": {
     "duration": 456.924847,
     "end_time": "2024-11-08T17:17:37.429536",
     "exception": false,
     "start_time": "2024-11-08T17:10:00.504689",
     "status": "completed"
    },
    "tags": []
   },
   "outputs": [
    {
     "data": {
      "text/html": [
       "<style>#sk-container-id-1 {color: black;background-color: white;}#sk-container-id-1 pre{padding: 0;}#sk-container-id-1 div.sk-toggleable {background-color: white;}#sk-container-id-1 label.sk-toggleable__label {cursor: pointer;display: block;width: 100%;margin-bottom: 0;padding: 0.3em;box-sizing: border-box;text-align: center;}#sk-container-id-1 label.sk-toggleable__label-arrow:before {content: \"▸\";float: left;margin-right: 0.25em;color: #696969;}#sk-container-id-1 label.sk-toggleable__label-arrow:hover:before {color: black;}#sk-container-id-1 div.sk-estimator:hover label.sk-toggleable__label-arrow:before {color: black;}#sk-container-id-1 div.sk-toggleable__content {max-height: 0;max-width: 0;overflow: hidden;text-align: left;background-color: #f0f8ff;}#sk-container-id-1 div.sk-toggleable__content pre {margin: 0.2em;color: black;border-radius: 0.25em;background-color: #f0f8ff;}#sk-container-id-1 input.sk-toggleable__control:checked~div.sk-toggleable__content {max-height: 200px;max-width: 100%;overflow: auto;}#sk-container-id-1 input.sk-toggleable__control:checked~label.sk-toggleable__label-arrow:before {content: \"▾\";}#sk-container-id-1 div.sk-estimator input.sk-toggleable__control:checked~label.sk-toggleable__label {background-color: #d4ebff;}#sk-container-id-1 div.sk-label input.sk-toggleable__control:checked~label.sk-toggleable__label {background-color: #d4ebff;}#sk-container-id-1 input.sk-hidden--visually {border: 0;clip: rect(1px 1px 1px 1px);clip: rect(1px, 1px, 1px, 1px);height: 1px;margin: -1px;overflow: hidden;padding: 0;position: absolute;width: 1px;}#sk-container-id-1 div.sk-estimator {font-family: monospace;background-color: #f0f8ff;border: 1px dotted black;border-radius: 0.25em;box-sizing: border-box;margin-bottom: 0.5em;}#sk-container-id-1 div.sk-estimator:hover {background-color: #d4ebff;}#sk-container-id-1 div.sk-parallel-item::after {content: \"\";width: 100%;border-bottom: 1px solid gray;flex-grow: 1;}#sk-container-id-1 div.sk-label:hover label.sk-toggleable__label {background-color: #d4ebff;}#sk-container-id-1 div.sk-serial::before {content: \"\";position: absolute;border-left: 1px solid gray;box-sizing: border-box;top: 0;bottom: 0;left: 50%;z-index: 0;}#sk-container-id-1 div.sk-serial {display: flex;flex-direction: column;align-items: center;background-color: white;padding-right: 0.2em;padding-left: 0.2em;position: relative;}#sk-container-id-1 div.sk-item {position: relative;z-index: 1;}#sk-container-id-1 div.sk-parallel {display: flex;align-items: stretch;justify-content: center;background-color: white;position: relative;}#sk-container-id-1 div.sk-item::before, #sk-container-id-1 div.sk-parallel-item::before {content: \"\";position: absolute;border-left: 1px solid gray;box-sizing: border-box;top: 0;bottom: 0;left: 50%;z-index: -1;}#sk-container-id-1 div.sk-parallel-item {display: flex;flex-direction: column;z-index: 1;position: relative;background-color: white;}#sk-container-id-1 div.sk-parallel-item:first-child::after {align-self: flex-end;width: 50%;}#sk-container-id-1 div.sk-parallel-item:last-child::after {align-self: flex-start;width: 50%;}#sk-container-id-1 div.sk-parallel-item:only-child::after {width: 0;}#sk-container-id-1 div.sk-dashed-wrapped {border: 1px dashed gray;margin: 0 0.4em 0.5em 0.4em;box-sizing: border-box;padding-bottom: 0.4em;background-color: white;}#sk-container-id-1 div.sk-label label {font-family: monospace;font-weight: bold;display: inline-block;line-height: 1.2em;}#sk-container-id-1 div.sk-label-container {text-align: center;}#sk-container-id-1 div.sk-container {/* jupyter's `normalize.less` sets `[hidden] { display: none; }` but bootstrap.min.css set `[hidden] { display: none !important; }` so we also need the `!important` here to be able to override the default hidden behavior on the sphinx rendered scikit-learn.org. See: https://github.com/scikit-learn/scikit-learn/issues/21755 */display: inline-block !important;position: relative;}#sk-container-id-1 div.sk-text-repr-fallback {display: none;}</style><div id=\"sk-container-id-1\" class=\"sk-top-container\"><div class=\"sk-text-repr-fallback\"><pre>GridSearchCV(cv=5,\n",
       "             estimator=Pipeline(steps=[(&#x27;preprocess&#x27;,\n",
       "                                        ColumnTransformer(transformers=[(&#x27;cat_preprocess&#x27;,\n",
       "                                                                         Pipeline(steps=[(&#x27;imputer&#x27;,\n",
       "                                                                                          SimpleImputer(strategy=&#x27;most_frequent&#x27;)),\n",
       "                                                                                         (&#x27;ohe&#x27;,\n",
       "                                                                                          OneHotEncoder(drop=&#x27;first&#x27;,\n",
       "                                                                                                        handle_unknown=&#x27;ignore&#x27;,\n",
       "                                                                                                        sparse_output=False))]),\n",
       "                                                                         Index([&#x27;Sex&#x27;, &#x27;Embarked&#x27;, &#x27;Title&#x27;], dtype=&#x27;object&#x27;)),\n",
       "                                                                        (&#x27;num_preprocess&#x27;,\n",
       "                                                                         Pipeline(steps=[(&#x27;impute...\n",
       "                                                          n_estimators=50)],\n",
       "                          &#x27;regr__bootstrap&#x27;: [True, False],\n",
       "                          &#x27;regr__max_depth&#x27;: [None, 10, 20, 30, 50, 70],\n",
       "                          &#x27;regr__min_samples_leaf&#x27;: [1, 2, 4],\n",
       "                          &#x27;regr__min_samples_split&#x27;: [2, 5, 10],\n",
       "                          &#x27;regr__n_estimators&#x27;: [50, 100, 200]},\n",
       "                         {&#x27;regr&#x27;: [AdaBoostClassifier(estimator=DecisionTreeClassifier(max_depth=1))],\n",
       "                          &#x27;regr__learning_rate&#x27;: [0.01, 0.1, 1, 10],\n",
       "                          &#x27;regr__n_estimators&#x27;: [50, 100, 200]}],\n",
       "             scoring=&#x27;accuracy&#x27;)</pre><b>In a Jupyter environment, please rerun this cell to show the HTML representation or trust the notebook. <br />On GitHub, the HTML representation is unable to render, please try loading this page with nbviewer.org.</b></div><div class=\"sk-container\" hidden><div class=\"sk-item sk-dashed-wrapped\"><div class=\"sk-label-container\"><div class=\"sk-label sk-toggleable\"><input class=\"sk-toggleable__control sk-hidden--visually\" id=\"sk-estimator-id-1\" type=\"checkbox\" ><label for=\"sk-estimator-id-1\" class=\"sk-toggleable__label sk-toggleable__label-arrow\">GridSearchCV</label><div class=\"sk-toggleable__content\"><pre>GridSearchCV(cv=5,\n",
       "             estimator=Pipeline(steps=[(&#x27;preprocess&#x27;,\n",
       "                                        ColumnTransformer(transformers=[(&#x27;cat_preprocess&#x27;,\n",
       "                                                                         Pipeline(steps=[(&#x27;imputer&#x27;,\n",
       "                                                                                          SimpleImputer(strategy=&#x27;most_frequent&#x27;)),\n",
       "                                                                                         (&#x27;ohe&#x27;,\n",
       "                                                                                          OneHotEncoder(drop=&#x27;first&#x27;,\n",
       "                                                                                                        handle_unknown=&#x27;ignore&#x27;,\n",
       "                                                                                                        sparse_output=False))]),\n",
       "                                                                         Index([&#x27;Sex&#x27;, &#x27;Embarked&#x27;, &#x27;Title&#x27;], dtype=&#x27;object&#x27;)),\n",
       "                                                                        (&#x27;num_preprocess&#x27;,\n",
       "                                                                         Pipeline(steps=[(&#x27;impute...\n",
       "                                                          n_estimators=50)],\n",
       "                          &#x27;regr__bootstrap&#x27;: [True, False],\n",
       "                          &#x27;regr__max_depth&#x27;: [None, 10, 20, 30, 50, 70],\n",
       "                          &#x27;regr__min_samples_leaf&#x27;: [1, 2, 4],\n",
       "                          &#x27;regr__min_samples_split&#x27;: [2, 5, 10],\n",
       "                          &#x27;regr__n_estimators&#x27;: [50, 100, 200]},\n",
       "                         {&#x27;regr&#x27;: [AdaBoostClassifier(estimator=DecisionTreeClassifier(max_depth=1))],\n",
       "                          &#x27;regr__learning_rate&#x27;: [0.01, 0.1, 1, 10],\n",
       "                          &#x27;regr__n_estimators&#x27;: [50, 100, 200]}],\n",
       "             scoring=&#x27;accuracy&#x27;)</pre></div></div></div><div class=\"sk-parallel\"><div class=\"sk-parallel-item\"><div class=\"sk-item\"><div class=\"sk-label-container\"><div class=\"sk-label sk-toggleable\"><input class=\"sk-toggleable__control sk-hidden--visually\" id=\"sk-estimator-id-2\" type=\"checkbox\" ><label for=\"sk-estimator-id-2\" class=\"sk-toggleable__label sk-toggleable__label-arrow\">estimator: Pipeline</label><div class=\"sk-toggleable__content\"><pre>Pipeline(steps=[(&#x27;preprocess&#x27;,\n",
       "                 ColumnTransformer(transformers=[(&#x27;cat_preprocess&#x27;,\n",
       "                                                  Pipeline(steps=[(&#x27;imputer&#x27;,\n",
       "                                                                   SimpleImputer(strategy=&#x27;most_frequent&#x27;)),\n",
       "                                                                  (&#x27;ohe&#x27;,\n",
       "                                                                   OneHotEncoder(drop=&#x27;first&#x27;,\n",
       "                                                                                 handle_unknown=&#x27;ignore&#x27;,\n",
       "                                                                                 sparse_output=False))]),\n",
       "                                                  Index([&#x27;Sex&#x27;, &#x27;Embarked&#x27;, &#x27;Title&#x27;], dtype=&#x27;object&#x27;)),\n",
       "                                                 (&#x27;num_preprocess&#x27;,\n",
       "                                                  Pipeline(steps=[(&#x27;imputer&#x27;,\n",
       "                                                                   SimpleImputer()),\n",
       "                                                                  (&#x27;scale&#x27;,\n",
       "                                                                   StandardScaler())]),\n",
       "                                                  Index([&#x27;Pclass&#x27;, &#x27;Age&#x27;, &#x27;SibSp&#x27;, &#x27;Parch&#x27;, &#x27;Fare&#x27;], dtype=&#x27;object&#x27;))])),\n",
       "                (&#x27;regr&#x27;, LogisticRegression())])</pre></div></div></div><div class=\"sk-serial\"><div class=\"sk-item\"><div class=\"sk-serial\"><div class=\"sk-item sk-dashed-wrapped\"><div class=\"sk-label-container\"><div class=\"sk-label sk-toggleable\"><input class=\"sk-toggleable__control sk-hidden--visually\" id=\"sk-estimator-id-3\" type=\"checkbox\" ><label for=\"sk-estimator-id-3\" class=\"sk-toggleable__label sk-toggleable__label-arrow\">preprocess: ColumnTransformer</label><div class=\"sk-toggleable__content\"><pre>ColumnTransformer(transformers=[(&#x27;cat_preprocess&#x27;,\n",
       "                                 Pipeline(steps=[(&#x27;imputer&#x27;,\n",
       "                                                  SimpleImputer(strategy=&#x27;most_frequent&#x27;)),\n",
       "                                                 (&#x27;ohe&#x27;,\n",
       "                                                  OneHotEncoder(drop=&#x27;first&#x27;,\n",
       "                                                                handle_unknown=&#x27;ignore&#x27;,\n",
       "                                                                sparse_output=False))]),\n",
       "                                 Index([&#x27;Sex&#x27;, &#x27;Embarked&#x27;, &#x27;Title&#x27;], dtype=&#x27;object&#x27;)),\n",
       "                                (&#x27;num_preprocess&#x27;,\n",
       "                                 Pipeline(steps=[(&#x27;imputer&#x27;, SimpleImputer()),\n",
       "                                                 (&#x27;scale&#x27;, StandardScaler())]),\n",
       "                                 Index([&#x27;Pclass&#x27;, &#x27;Age&#x27;, &#x27;SibSp&#x27;, &#x27;Parch&#x27;, &#x27;Fare&#x27;], dtype=&#x27;object&#x27;))])</pre></div></div></div><div class=\"sk-parallel\"><div class=\"sk-parallel-item\"><div class=\"sk-item\"><div class=\"sk-label-container\"><div class=\"sk-label sk-toggleable\"><input class=\"sk-toggleable__control sk-hidden--visually\" id=\"sk-estimator-id-4\" type=\"checkbox\" ><label for=\"sk-estimator-id-4\" class=\"sk-toggleable__label sk-toggleable__label-arrow\">cat_preprocess</label><div class=\"sk-toggleable__content\"><pre>Index([&#x27;Sex&#x27;, &#x27;Embarked&#x27;, &#x27;Title&#x27;], dtype=&#x27;object&#x27;)</pre></div></div></div><div class=\"sk-serial\"><div class=\"sk-item\"><div class=\"sk-serial\"><div class=\"sk-item\"><div class=\"sk-estimator sk-toggleable\"><input class=\"sk-toggleable__control sk-hidden--visually\" id=\"sk-estimator-id-5\" type=\"checkbox\" ><label for=\"sk-estimator-id-5\" class=\"sk-toggleable__label sk-toggleable__label-arrow\">SimpleImputer</label><div class=\"sk-toggleable__content\"><pre>SimpleImputer(strategy=&#x27;most_frequent&#x27;)</pre></div></div></div><div class=\"sk-item\"><div class=\"sk-estimator sk-toggleable\"><input class=\"sk-toggleable__control sk-hidden--visually\" id=\"sk-estimator-id-6\" type=\"checkbox\" ><label for=\"sk-estimator-id-6\" class=\"sk-toggleable__label sk-toggleable__label-arrow\">OneHotEncoder</label><div class=\"sk-toggleable__content\"><pre>OneHotEncoder(drop=&#x27;first&#x27;, handle_unknown=&#x27;ignore&#x27;, sparse_output=False)</pre></div></div></div></div></div></div></div></div><div class=\"sk-parallel-item\"><div class=\"sk-item\"><div class=\"sk-label-container\"><div class=\"sk-label sk-toggleable\"><input class=\"sk-toggleable__control sk-hidden--visually\" id=\"sk-estimator-id-7\" type=\"checkbox\" ><label for=\"sk-estimator-id-7\" class=\"sk-toggleable__label sk-toggleable__label-arrow\">num_preprocess</label><div class=\"sk-toggleable__content\"><pre>Index([&#x27;Pclass&#x27;, &#x27;Age&#x27;, &#x27;SibSp&#x27;, &#x27;Parch&#x27;, &#x27;Fare&#x27;], dtype=&#x27;object&#x27;)</pre></div></div></div><div class=\"sk-serial\"><div class=\"sk-item\"><div class=\"sk-serial\"><div class=\"sk-item\"><div class=\"sk-estimator sk-toggleable\"><input class=\"sk-toggleable__control sk-hidden--visually\" id=\"sk-estimator-id-8\" type=\"checkbox\" ><label for=\"sk-estimator-id-8\" class=\"sk-toggleable__label sk-toggleable__label-arrow\">SimpleImputer</label><div class=\"sk-toggleable__content\"><pre>SimpleImputer()</pre></div></div></div><div class=\"sk-item\"><div class=\"sk-estimator sk-toggleable\"><input class=\"sk-toggleable__control sk-hidden--visually\" id=\"sk-estimator-id-9\" type=\"checkbox\" ><label for=\"sk-estimator-id-9\" class=\"sk-toggleable__label sk-toggleable__label-arrow\">StandardScaler</label><div class=\"sk-toggleable__content\"><pre>StandardScaler()</pre></div></div></div></div></div></div></div></div></div></div><div class=\"sk-item\"><div class=\"sk-estimator sk-toggleable\"><input class=\"sk-toggleable__control sk-hidden--visually\" id=\"sk-estimator-id-10\" type=\"checkbox\" ><label for=\"sk-estimator-id-10\" class=\"sk-toggleable__label sk-toggleable__label-arrow\">LogisticRegression</label><div class=\"sk-toggleable__content\"><pre>LogisticRegression()</pre></div></div></div></div></div></div></div></div></div></div></div></div>"
      ],
      "text/plain": [
       "GridSearchCV(cv=5,\n",
       "             estimator=Pipeline(steps=[('preprocess',\n",
       "                                        ColumnTransformer(transformers=[('cat_preprocess',\n",
       "                                                                         Pipeline(steps=[('imputer',\n",
       "                                                                                          SimpleImputer(strategy='most_frequent')),\n",
       "                                                                                         ('ohe',\n",
       "                                                                                          OneHotEncoder(drop='first',\n",
       "                                                                                                        handle_unknown='ignore',\n",
       "                                                                                                        sparse_output=False))]),\n",
       "                                                                         Index(['Sex', 'Embarked', 'Title'], dtype='object')),\n",
       "                                                                        ('num_preprocess',\n",
       "                                                                         Pipeline(steps=[('impute...\n",
       "                                                          n_estimators=50)],\n",
       "                          'regr__bootstrap': [True, False],\n",
       "                          'regr__max_depth': [None, 10, 20, 30, 50, 70],\n",
       "                          'regr__min_samples_leaf': [1, 2, 4],\n",
       "                          'regr__min_samples_split': [2, 5, 10],\n",
       "                          'regr__n_estimators': [50, 100, 200]},\n",
       "                         {'regr': [AdaBoostClassifier(estimator=DecisionTreeClassifier(max_depth=1))],\n",
       "                          'regr__learning_rate': [0.01, 0.1, 1, 10],\n",
       "                          'regr__n_estimators': [50, 100, 200]}],\n",
       "             scoring='accuracy')"
      ]
     },
     "execution_count": 9,
     "metadata": {},
     "output_type": "execute_result"
    }
   ],
   "source": [
    "gs.fit(x_train, y_train)"
   ]
  },
  {
   "cell_type": "code",
   "execution_count": 10,
   "id": "ffb70a45",
   "metadata": {
    "execution": {
     "iopub.execute_input": "2024-11-08T17:17:37.442186Z",
     "iopub.status.busy": "2024-11-08T17:17:37.441603Z",
     "iopub.status.idle": "2024-11-08T17:17:37.446982Z",
     "shell.execute_reply": "2024-11-08T17:17:37.445769Z"
    },
    "papermill": {
     "duration": 0.014886,
     "end_time": "2024-11-08T17:17:37.449362",
     "exception": false,
     "start_time": "2024-11-08T17:17:37.434476",
     "status": "completed"
    },
    "tags": []
   },
   "outputs": [],
   "source": [
    "best_pipeline = gs.best_estimator_"
   ]
  },
  {
   "cell_type": "code",
   "execution_count": 11,
   "id": "49446c6d",
   "metadata": {
    "execution": {
     "iopub.execute_input": "2024-11-08T17:17:37.461955Z",
     "iopub.status.busy": "2024-11-08T17:17:37.461029Z",
     "iopub.status.idle": "2024-11-08T17:17:37.469287Z",
     "shell.execute_reply": "2024-11-08T17:17:37.467862Z"
    },
    "papermill": {
     "duration": 0.017363,
     "end_time": "2024-11-08T17:17:37.471971",
     "exception": false,
     "start_time": "2024-11-08T17:17:37.454608",
     "status": "completed"
    },
    "tags": []
   },
   "outputs": [
    {
     "name": "stdout",
     "output_type": "stream",
     "text": [
      "The best regression model is:\n",
      "RandomForestClassifier(bootstrap=False, max_depth=70, min_samples_leaf=4,\n",
      "                       n_estimators=50)\n"
     ]
    }
   ],
   "source": [
    "best_regression_model = best_pipeline.named_steps['regr']\n",
    "print('The best regression model is:')\n",
    "print(best_regression_model)"
   ]
  },
  {
   "cell_type": "code",
   "execution_count": 12,
   "id": "bdc64b62",
   "metadata": {
    "execution": {
     "iopub.execute_input": "2024-11-08T17:17:37.484485Z",
     "iopub.status.busy": "2024-11-08T17:17:37.484036Z",
     "iopub.status.idle": "2024-11-08T17:17:37.490063Z",
     "shell.execute_reply": "2024-11-08T17:17:37.488986Z"
    },
    "papermill": {
     "duration": 0.015473,
     "end_time": "2024-11-08T17:17:37.492974",
     "exception": false,
     "start_time": "2024-11-08T17:17:37.477501",
     "status": "completed"
    },
    "tags": []
   },
   "outputs": [
    {
     "name": "stdout",
     "output_type": "stream",
     "text": [
      "The hyperparameters of the regression model are:\n",
      "{'bootstrap': False, 'ccp_alpha': 0.0, 'class_weight': None, 'criterion': 'gini', 'max_depth': 70, 'max_features': 'sqrt', 'max_leaf_nodes': None, 'max_samples': None, 'min_impurity_decrease': 0.0, 'min_samples_leaf': 4, 'min_samples_split': 2, 'min_weight_fraction_leaf': 0.0, 'n_estimators': 50, 'n_jobs': None, 'oob_score': False, 'random_state': None, 'verbose': 0, 'warm_start': False}\n"
     ]
    }
   ],
   "source": [
    "best_model_hyperparameters = best_regression_model.get_params()\n",
    "print('The hyperparameters of the regression model are:')\n",
    "print(best_model_hyperparameters)"
   ]
  },
  {
   "cell_type": "code",
   "execution_count": 13,
   "id": "cb80e5b8",
   "metadata": {
    "execution": {
     "iopub.execute_input": "2024-11-08T17:17:37.506011Z",
     "iopub.status.busy": "2024-11-08T17:17:37.505560Z",
     "iopub.status.idle": "2024-11-08T17:17:37.525930Z",
     "shell.execute_reply": "2024-11-08T17:17:37.524831Z"
    },
    "papermill": {
     "duration": 0.030279,
     "end_time": "2024-11-08T17:17:37.528572",
     "exception": false,
     "start_time": "2024-11-08T17:17:37.498293",
     "status": "completed"
    },
    "tags": []
   },
   "outputs": [
    {
     "name": "stdout",
     "output_type": "stream",
     "text": [
      "The score:\n",
      "0.8161434977578476\n"
     ]
    }
   ],
   "source": [
    "score_model = best_pipeline.score(x_test,y_test)\n",
    "print('The score:')\n",
    "print(score_model)"
   ]
  },
  {
   "cell_type": "code",
   "execution_count": 14,
   "id": "3e24abfc",
   "metadata": {
    "execution": {
     "iopub.execute_input": "2024-11-08T17:17:37.540941Z",
     "iopub.status.busy": "2024-11-08T17:17:37.540478Z",
     "iopub.status.idle": "2024-11-08T17:17:37.559755Z",
     "shell.execute_reply": "2024-11-08T17:17:37.558423Z"
    },
    "papermill": {
     "duration": 0.028655,
     "end_time": "2024-11-08T17:17:37.562456",
     "exception": false,
     "start_time": "2024-11-08T17:17:37.533801",
     "status": "completed"
    },
    "tags": []
   },
   "outputs": [],
   "source": [
    "predictions = best_pipeline.predict(X_test)"
   ]
  },
  {
   "cell_type": "code",
   "execution_count": 15,
   "id": "9cebc437",
   "metadata": {
    "execution": {
     "iopub.execute_input": "2024-11-08T17:17:37.575351Z",
     "iopub.status.busy": "2024-11-08T17:17:37.574863Z",
     "iopub.status.idle": "2024-11-08T17:17:37.585967Z",
     "shell.execute_reply": "2024-11-08T17:17:37.584798Z"
    },
    "papermill": {
     "duration": 0.020637,
     "end_time": "2024-11-08T17:17:37.588470",
     "exception": false,
     "start_time": "2024-11-08T17:17:37.567833",
     "status": "completed"
    },
    "tags": []
   },
   "outputs": [
    {
     "name": "stdout",
     "output_type": "stream",
     "text": [
      "Your submission was successfully saved!\n"
     ]
    }
   ],
   "source": [
    "output = pd.DataFrame({'PassengerId': test_data.PassengerId, 'Survived': predictions})\n",
    "output.to_csv('submission.csv', index=False)\n",
    "print(\"Your submission was successfully saved!\")"
   ]
  }
 ],
 "metadata": {
  "kaggle": {
   "accelerator": "none",
   "dataSources": [
    {
     "datasetId": 5992519,
     "sourceId": 9781424,
     "sourceType": "datasetVersion"
    }
   ],
   "dockerImageVersionId": 30786,
   "isGpuEnabled": false,
   "isInternetEnabled": false,
   "language": "python",
   "sourceType": "notebook"
  },
  "kernelspec": {
   "display_name": "Python 3",
   "language": "python",
   "name": "python3"
  },
  "language_info": {
   "codemirror_mode": {
    "name": "ipython",
    "version": 3
   },
   "file_extension": ".py",
   "mimetype": "text/x-python",
   "name": "python",
   "nbconvert_exporter": "python",
   "pygments_lexer": "ipython3",
   "version": "3.10.14"
  },
  "papermill": {
   "default_parameters": {},
   "duration": 464.413974,
   "end_time": "2024-11-08T17:17:38.318121",
   "environment_variables": {},
   "exception": null,
   "input_path": "__notebook__.ipynb",
   "output_path": "__notebook__.ipynb",
   "parameters": {},
   "start_time": "2024-11-08T17:09:53.904147",
   "version": "2.6.0"
  }
 },
 "nbformat": 4,
 "nbformat_minor": 5
}
